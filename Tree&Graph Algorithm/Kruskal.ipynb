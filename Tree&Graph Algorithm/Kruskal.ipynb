{
 "cells": [
  {
   "cell_type": "markdown",
   "metadata": {},
   "source": [
    "# Kruskal's algorithm"
   ]
  },
  {
   "cell_type": "code",
   "execution_count": 17,
   "metadata": {},
   "outputs": [],
   "source": [
    "class Distjoint_Set:\n",
    "    def __init__(self):\n",
    "        self.parents = {}\n",
    "        self.rank = {}\n",
    "        self.size = {}\n",
    "\n",
    "    def Make_Set(self, x):\n",
    "        self.parents[x] = x\n",
    "        self.rank[x] = 0\n",
    "        self.size[x] = 1\n",
    "\n",
    "    def Find(self, x):\n",
    "        if x not in self.parents:\n",
    "            return None\n",
    "\n",
    "        if self.parents[x] != x:\n",
    "            self.parents[x] = self.Find(self.parents[x])\n",
    "        return self.parents[x]\n",
    "\n",
    "    def Find_With_Compression(self, x):\n",
    "        if x not in self.parents:\n",
    "            return None\n",
    "        p = self.parents[x]\n",
    "        while p != self.parents[p]:\n",
    "            self.parents[p] = self.parents[self.parents[p]]\n",
    "            p = self.parents[p]\n",
    "        return p\n",
    "\n",
    "    def Union(self, x, y):\n",
    "        # x 또는 y가 disjoint set 자료 구조에 있는지 확인\n",
    "        if x not in self.parents or y not in self.parents:\n",
    "            return\n",
    "\n",
    "        # 같은 disjoint set에 속해 있는지 확인\n",
    "        x = self.Find(x)\n",
    "        y = self.Find(y)\n",
    "\n",
    "        if x == y:\n",
    "            return False\n",
    "\n",
    "        # 다른 disjoint set에 있었다면,\n",
    "        if self.rank[x] > self.rank[y]:\n",
    "            self.size[x] += self.size[y]\n",
    "            self.size[y] = self.size[x]\n",
    "            self.parents[y] = x\n",
    "        elif self.rank[y] > self.rank[x]:\n",
    "            self.size[x] += self.size[y]\n",
    "            self.size[y] = self.size[x]\n",
    "            self.parents[x] = y\n",
    "        else:\n",
    "            self.parents[y] = x\n",
    "            self.rank[x] += 1\n",
    "            self.size[x] += self.size[y]\n",
    "            self.size[y] = self.size[x]\n",
    "        return True"
   ]
  },
  {
   "cell_type": "code",
   "execution_count": 18,
   "metadata": {},
   "outputs": [],
   "source": [
    "import heapq\n",
    "\n",
    "\n",
    "# 매개 변수인 edge의 구조: [vertex1, vertex2, weight]\n",
    "def Kruskal(edges):\n",
    "\n",
    "    # Finding distinct vertex\n",
    "    vertex_type = set([])\n",
    "    for edge in edges:\n",
    "        vertex_type.add(edge[0])\n",
    "        vertex_type.add(edge[1])\n",
    "\n",
    "    MST = []\n",
    "    minHeap = []\n",
    "    disjoint_set = Distjoint_Set()\n",
    "\n",
    "    for edge in edges:\n",
    "        minHeap.append([edge[2], edge[0], edge[1]])  # [weight, vertex1, vertex2]\n",
    "    heapq.heapify(minHeap)\n",
    "\n",
    "    for distinct_vertex in vertex_type:\n",
    "        disjoint_set.Make_Set(distinct_vertex)\n",
    "\n",
    "    while len(MST) < (len(vertex_type) - 1):\n",
    "        selected_edge = heapq.heappop(minHeap)\n",
    "        vertex1 = selected_edge[1]\n",
    "        vertex2 = selected_edge[2]\n",
    "        if disjoint_set.Find(vertex1) != disjoint_set.Find(vertex2):\n",
    "            MST.append([selected_edge[1], selected_edge[2], selected_edge[0]])\n",
    "            disjoint_set.Union(vertex1, vertex2)\n",
    "\n",
    "    return MST"
   ]
  },
  {
   "cell_type": "code",
   "execution_count": 19,
   "metadata": {},
   "outputs": [
    {
     "data": {
      "text/plain": [
       "[['A', 'B', 3], ['A', 'C', 7]]"
      ]
     },
     "execution_count": 19,
     "metadata": {},
     "output_type": "execute_result"
    }
   ],
   "source": [
    "edges = [[\"A\", \"B\", 3], [\"A\", \"C\", 7]]\n",
    "\n",
    "graph = Kruskal(edges)\n",
    "graph"
   ]
  },
  {
   "cell_type": "code",
   "execution_count": null,
   "metadata": {},
   "outputs": [],
   "source": []
  }
 ],
 "metadata": {
  "kernelspec": {
   "display_name": "Python 3",
   "language": "python",
   "name": "python3"
  },
  "language_info": {
   "codemirror_mode": {
    "name": "ipython",
    "version": 3
   },
   "file_extension": ".py",
   "mimetype": "text/x-python",
   "name": "python",
   "nbconvert_exporter": "python",
   "pygments_lexer": "ipython3",
   "version": "3.12.3"
  }
 },
 "nbformat": 4,
 "nbformat_minor": 2
}
