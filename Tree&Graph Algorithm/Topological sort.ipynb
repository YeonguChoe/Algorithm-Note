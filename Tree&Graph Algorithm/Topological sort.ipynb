{
 "cells": [
  {
   "cell_type": "markdown",
   "metadata": {},
   "source": [
    "# Topological Sort"
   ]
  },
  {
   "cell_type": "markdown",
   "metadata": {},
   "source": [
    "### Kahn 알고리즘"
   ]
  },
  {
   "cell_type": "code",
   "execution_count": 59,
   "metadata": {},
   "outputs": [],
   "source": [
    "def Kahn(adjacency_list, incoming_edge):\n",
    "    L = []\n",
    "    while len(L) < len(incoming_edge):\n",
    "        selected_node = None\n",
    "        for key, value in incoming_edge.items():\n",
    "            if value == 0 and key not in L:\n",
    "                selected_node = key\n",
    "                break\n",
    "        if selected_node == None:\n",
    "            return \"그래프에 사이클이 존재합니다\"\n",
    "        L.append(selected_node)\n",
    "        for node in adjacency_list[selected_node]:\n",
    "            incoming_edge[node] -= 1\n",
    "        adjacency_list[selected_node] = []\n",
    "    for key, value in incoming_edge.items():\n",
    "        if value != 0:\n",
    "            return \"그래프에 사이클이 존재합니다\"\n",
    "    return L"
   ]
  },
  {
   "cell_type": "code",
   "execution_count": 60,
   "metadata": {},
   "outputs": [
    {
     "data": {
      "text/plain": [
       "['A', 'D', 'C', 'B']"
      ]
     },
     "execution_count": 60,
     "metadata": {},
     "output_type": "execute_result"
    }
   ],
   "source": [
    "# cycle이 없는 directed 그래프\n",
    "incoming_edge = {\"A\": 0, \"B\": 3, \"C\": 2, \"D\": 0}\n",
    "adjacency_list = {\"A\": [\"B\", \"C\"], \"B\": [], \"C\": [\"B\"], \"D\": [\"B\", \"C\"]}\n",
    "\n",
    "# cycle이 있는 directed 그래프\n",
    "# incoming_edge = {\"A\": 0, \"B\": 2, \"C\": 1, \"D\": 2}\n",
    "# adjacency_list = {\"A\": [\"B\", \"D\"], \"B\": [\"C\"], \"C\": [\"D\"], \"D\": [\"B\"]}\n",
    "\n",
    "Kahn(adjacency_list, incoming_edge)"
   ]
  },
  {
   "cell_type": "markdown",
   "metadata": {},
   "source": [
    "### DFS를 응용한 Topological sort"
   ]
  },
  {
   "cell_type": "code",
   "execution_count": 58,
   "metadata": {},
   "outputs": [
    {
     "data": {
      "text/plain": [
       "['D', 'A', 'C', 'B']"
      ]
     },
     "execution_count": 58,
     "metadata": {},
     "output_type": "execute_result"
    }
   ],
   "source": [
    "node_mark = {\n",
    "    \"A\": \"\",\n",
    "    \"B\": \"\",\n",
    "    \"C\": \"\",\n",
    "    \"D\": \"\",\n",
    "}\n",
    "incoming_edge = {\"A\": [], \"B\": [\"A\", \"C\", \"D\"], \"C\": [\"A\", \"D\"], \"D\": []}\n",
    "adjacency_list = {\"A\": [\"B\", \"C\"], \"B\": [], \"C\": [\"B\"], \"D\": [\"B\", \"C\"]}\n",
    "\n",
    "\n",
    "def DFS_topological_sort():\n",
    "    L = []\n",
    "\n",
    "    while not all(value == \"permanent\" for value in node_mark.values()):\n",
    "        non_permanent_node = [\n",
    "            key for key, value in node_mark.items() if value != \"permanent\"\n",
    "        ]\n",
    "        visit(non_permanent_node.pop(), L)\n",
    "    return L\n",
    "\n",
    "\n",
    "def visit(src, result):\n",
    "    node_mark[src] = \"temporary\"\n",
    "    for connected_node in incoming_edge[src]:\n",
    "        if node_mark[connected_node] != \"permanent\":\n",
    "            visit(connected_node, result)\n",
    "        if node_mark[connected_node] == \"temporary\":\n",
    "            return \"사이클이 존재 합니다\"\n",
    "    node_mark[src] = \"permanent\"\n",
    "    result.append(src)\n",
    "\n",
    "\n",
    "DFS_topological_sort()"
   ]
  }
 ],
 "metadata": {
  "kernelspec": {
   "display_name": "Python 3",
   "language": "python",
   "name": "python3"
  },
  "language_info": {
   "codemirror_mode": {
    "name": "ipython",
    "version": 3
   },
   "file_extension": ".py",
   "mimetype": "text/x-python",
   "name": "python",
   "nbconvert_exporter": "python",
   "pygments_lexer": "ipython3",
   "version": "3.12.3"
  }
 },
 "nbformat": 4,
 "nbformat_minor": 2
}
