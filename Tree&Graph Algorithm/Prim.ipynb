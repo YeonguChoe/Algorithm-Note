{
 "cells": [
  {
   "cell_type": "markdown",
   "metadata": {},
   "source": [
    "# Prim's Algorithm"
   ]
  },
  {
   "cell_type": "code",
   "execution_count": 75,
   "metadata": {},
   "outputs": [],
   "source": [
    "import heapq\n",
    "\n",
    "def prim(edges):\n",
    "    ########################## minHeap과 MST 초기화 ############################\n",
    "    # 임의로 node를 선택한다.\n",
    "    # argument에 있는 첫번째 edge에 시작점 노드 선택\n",
    "    first_edge = edges[0]  # [시작점, 끝점, 가중치]\n",
    "    first_node = first_edge[0]\n",
    "    minHeap = []\n",
    "    # 첫번째 노드에 연결된 모든 edge를 minHeap에 넣는다\n",
    "    for edge in edges:\n",
    "        if edge[0] == first_node or edges[1] == first_node:\n",
    "            minHeap.append([edge[2], edge[0], edge[1]])\n",
    "    heapq.heapify(minHeap)\n",
    "    # MST인 adjacency list 생성\n",
    "    MST = {}\n",
    "    # 모든 노드의 종류를 담은 set 만들기\n",
    "    vertex_type = set([])\n",
    "    for edge in edges:\n",
    "        vertex_type.add(edge[0])\n",
    "        vertex_type.add(edge[1])\n",
    "    # MST에 시작점 노드 초기화 하기\n",
    "    for vertex in vertex_type:\n",
    "        MST[vertex] = []\n",
    "    #############################################################################\n",
    "    while len(minHeap) > 0:\n",
    "        selected_edge = heapq.heappop(minHeap)\n",
    "        start = selected_edge[1]\n",
    "        end = selected_edge[2]\n",
    "        weight = selected_edge[0]\n",
    "        # 만약에 추가 되지 않은 노드인 경우 edge를 추가한다.\n",
    "        if len(MST[start]) == 0 or len(MST[end]) == 0:\n",
    "            MST[start].append([end, weight])\n",
    "            MST[end].append([start, weight])\n",
    "            # 새로 추가된 edge의 끝점에서 부터 연결된 edge들을 추가한다.\n",
    "            for edge in edges:\n",
    "                if edge[0] == end or edge[1] == end:\n",
    "                    if edge[0] != start and edge[1] != end:\n",
    "                        minHeap.append([edge[2], edge[0], edge[1]])\n",
    "            heapq.heapify(minHeap)\n",
    "\n",
    "    return MST"
   ]
  },
  {
   "cell_type": "code",
   "execution_count": 77,
   "metadata": {},
   "outputs": [
    {
     "data": {
      "text/plain": [
       "{'A': [['B', 3], ['C', 7]], 'C': [['A', 7]], 'B': [['A', 3]]}"
      ]
     },
     "execution_count": 77,
     "metadata": {},
     "output_type": "execute_result"
    }
   ],
   "source": [
    "edges = [[\"A\", \"B\", 3], [\"A\", \"C\", 7]]\n",
    "\n",
    "graph = prim(edges)\n",
    "graph"
   ]
  }
 ],
 "metadata": {
  "kernelspec": {
   "display_name": "Python 3",
   "language": "python",
   "name": "python3"
  },
  "language_info": {
   "codemirror_mode": {
    "name": "ipython",
    "version": 3
   },
   "file_extension": ".py",
   "mimetype": "text/x-python",
   "name": "python",
   "nbconvert_exporter": "python",
   "pygments_lexer": "ipython3",
   "version": "3.12.3"
  }
 },
 "nbformat": 4,
 "nbformat_minor": 2
}
