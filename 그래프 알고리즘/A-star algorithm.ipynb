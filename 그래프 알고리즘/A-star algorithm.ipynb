{
 "cells": [
  {
   "cell_type": "markdown",
   "metadata": {},
   "source": [
    "# A* algorithm"
   ]
  },
  {
   "cell_type": "code",
   "execution_count": 92,
   "metadata": {},
   "outputs": [],
   "source": [
    "import heapq\n",
    "\n",
    "\n",
    "def A_star(edges, src, destination_node):\n",
    "\n",
    "    node_type = set([])\n",
    "\n",
    "    for edge in edges:\n",
    "        node_type.add(edge[0])\n",
    "        node_type.add(edge[1])\n",
    "\n",
    "    adjacency_list = {}\n",
    "    for distinct_node in node_type:\n",
    "        adjacency_list[distinct_node] = []\n",
    "    for edge in edges:\n",
    "        adjacency_list[edge[0]].append([edge[1], edge[2]])\n",
    "        adjacency_list[edge[1]].append([edge[0], edge[2]])\n",
    "\n",
    "    open_set = [src]\n",
    "\n",
    "    came_from = {}\n",
    "\n",
    "    actual_cost = {distinct_node: float(\"Inf\") for distinct_node in node_type}\n",
    "    actual_cost[src] = 0\n",
    "\n",
    "    estimated_cost = {src: heuristic(src)}\n",
    "\n",
    "    while len(open_set) > 0:\n",
    "        current_node = heapq.heappop(open_set)\n",
    "        if current_node == destination_node:\n",
    "            return f\"path: {path(came_from, current_node)} cost: {actual_cost[current_node]}\"\n",
    "        for connected_node in adjacency_list[current_node]:\n",
    "            tentative_actual_cost = actual_cost[current_node] + connected_node[1]\n",
    "            if tentative_actual_cost < actual_cost[connected_node[0]]:\n",
    "                came_from[connected_node[0]] = current_node\n",
    "                actual_cost[connected_node[0]] = tentative_actual_cost\n",
    "                estimated_cost[connected_node[0]] = tentative_actual_cost + heuristic(\n",
    "                    connected_node[0]\n",
    "                )\n",
    "                heapq.heappush(open_set, connected_node[0])\n",
    "                heapq.heapify(open_set)\n",
    "    return \"경로를 못 찾았습니다.\"\n",
    "\n",
    "\n",
    "def path(came_from, arrived_node):\n",
    "    path_list = [arrived_node]\n",
    "    selected_node = arrived_node\n",
    "    while selected_node in came_from:\n",
    "        path_list.insert(0, came_from[selected_node])\n",
    "        selected_node = came_from[selected_node]\n",
    "    return path_list\n",
    "\n",
    "\n",
    "def heuristic(x):\n",
    "    if x == \"A\":\n",
    "        return 10\n",
    "    if x == \"B\":\n",
    "        return 20\n",
    "    if x == \"C\":\n",
    "        return 30\n",
    "    if x == \"D\":\n",
    "        return 40\n",
    "    else:\n",
    "        return 50"
   ]
  },
  {
   "cell_type": "code",
   "execution_count": 94,
   "metadata": {},
   "outputs": [
    {
     "data": {
      "text/plain": [
       "'경로를 못 찾았습니다.'"
      ]
     },
     "execution_count": 94,
     "metadata": {},
     "output_type": "execute_result"
    }
   ],
   "source": [
    "edges = [[\"A\", \"B\", 3], [\"B\", \"D\", 4], [\"A\", \"C\", 1]]\n",
    "src = \"A\"\n",
    "destination = \"D\"\n",
    "A_star(edges, src, destination)"
   ]
  },
  {
   "cell_type": "code",
   "execution_count": null,
   "metadata": {},
   "outputs": [],
   "source": []
  },
  {
   "cell_type": "code",
   "execution_count": null,
   "metadata": {},
   "outputs": [],
   "source": []
  }
 ],
 "metadata": {
  "kernelspec": {
   "display_name": "Python 3",
   "language": "python",
   "name": "python3"
  },
  "language_info": {
   "codemirror_mode": {
    "name": "ipython",
    "version": 3
   },
   "file_extension": ".py",
   "mimetype": "text/x-python",
   "name": "python",
   "nbconvert_exporter": "python",
   "pygments_lexer": "ipython3",
   "version": "3.12.3"
  }
 },
 "nbformat": 4,
 "nbformat_minor": 2
}
