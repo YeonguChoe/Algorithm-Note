{
 "cells": [
  {
   "cell_type": "markdown",
   "metadata": {},
   "source": [
    "# Disjoint-set (Union-find)\n",
    "- Disjoint set: 서로소 집합\n",
    "- Union find: 합집합 찾기"
   ]
  },
  {
   "cell_type": "code",
   "execution_count": 4,
   "metadata": {},
   "outputs": [],
   "source": [
    "class Distjoint_Set:\n",
    "    def __init__(self):\n",
    "        self.parents = {}\n",
    "        self.rank = {}\n",
    "        self.size = {}\n",
    "\n",
    "    def Make_Set(self, x):\n",
    "        self.parents[x] = x\n",
    "        self.rank[x] = 0\n",
    "        self.size[x] = 1\n",
    "\n",
    "    def Find(self, x):\n",
    "        if x not in self.parents:\n",
    "            return None\n",
    "\n",
    "        if self.parents[x] != x:\n",
    "            self.parents[x] = self.Find(self.parents[x])\n",
    "        return self.parents[x]\n",
    "\n",
    "    def Find_With_Compression(self, x):\n",
    "        if x not in self.parents:\n",
    "            return None\n",
    "        p = self.parents[x]\n",
    "        while p != self.parents[p]:\n",
    "            self.parents[p] = self.parents[self.parents[p]]\n",
    "            p = self.parents[p]\n",
    "        return p\n",
    "\n",
    "    def Union(self, x, y):\n",
    "        # x 또는 y가 disjoint set 자료 구조에 있는지 확인\n",
    "        if x not in self.parents or y not in self.parents:\n",
    "            return\n",
    "\n",
    "        # 같은 disjoint set에 속해 있는지 확인\n",
    "        x = self.Find(x)\n",
    "        y = self.Find(y)\n",
    "\n",
    "        if x == y:\n",
    "            return False\n",
    "\n",
    "        # 다른 disjoint set에 있었다면,\n",
    "        if self.rank[x] > self.rank[y]:\n",
    "            self.size[x] += self.size[y]\n",
    "            self.size[y] = self.size[x]\n",
    "            self.parents[y] = x\n",
    "        elif self.rank[y] > self.rank[x]:\n",
    "            self.size[x] += self.size[y]\n",
    "            self.size[y] = self.size[x]\n",
    "            self.parents[x] = y\n",
    "        else:\n",
    "            self.parents[y] = x\n",
    "            self.rank[x] += 1\n",
    "            self.size[x] += self.size[y]\n",
    "            self.size[y] = self.size[x]\n",
    "        return True"
   ]
  },
  {
   "cell_type": "code",
   "execution_count": null,
   "metadata": {},
   "outputs": [],
   "source": []
  }
 ],
 "metadata": {
  "kernelspec": {
   "display_name": "Python 3",
   "language": "python",
   "name": "python3"
  },
  "language_info": {
   "codemirror_mode": {
    "name": "ipython",
    "version": 3
   },
   "file_extension": ".py",
   "mimetype": "text/x-python",
   "name": "python",
   "nbconvert_exporter": "python",
   "pygments_lexer": "ipython3",
   "version": "3.12.3"
  }
 },
 "nbformat": 4,
 "nbformat_minor": 2
}
