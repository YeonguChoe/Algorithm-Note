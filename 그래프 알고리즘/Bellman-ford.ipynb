{
 "cells": [
  {
   "cell_type": "markdown",
   "metadata": {},
   "source": [
    "# Bellman-ford algorithm"
   ]
  },
  {
   "cell_type": "code",
   "execution_count": 9,
   "metadata": {},
   "outputs": [],
   "source": [
    "def BellmanFord(vertex_list, edge_list, src):\n",
    "    # distance 초기화\n",
    "    distance = {}\n",
    "\n",
    "    for vertex in vertex_list:\n",
    "        if vertex == src:\n",
    "            distance[vertex] = 0\n",
    "        else:\n",
    "            distance[vertex] = float(\"Inf\")\n",
    "\n",
    "    # 각 노드까지의 최단거리를 찾아서 distance를 갱신한다.\n",
    "    for i in range(len(vertex_list) - 1):\n",
    "        for edge in edge_list:\n",
    "            if distance[edge[0]] + edge[2] < distance[edge[1]]:\n",
    "                distance[edge[1]] = distance[edge[0]] + edge[2]\n",
    "\n",
    "    # negative-weight cycle이 있는지 찾기\n",
    "    for edge in edge_list:\n",
    "        if distance[edge[0]] + edge[2] < distance[edge[1]]:\n",
    "            print(\n",
    "                \"그래프에 Negative-weight cycle이 있습니다. 따라서, 최단 경로를 찾을수 없습니다.\"\n",
    "            )\n",
    "\n",
    "    # distance 반환\n",
    "    return distance"
   ]
  },
  {
   "cell_type": "code",
   "execution_count": 10,
   "metadata": {},
   "outputs": [
    {
     "data": {
      "text/plain": [
       "{'A': 0, 'B': 5, 'C': 3, 'D': 3}"
      ]
     },
     "execution_count": 10,
     "metadata": {},
     "output_type": "execute_result"
    }
   ],
   "source": [
    "V = [\"A\", \"B\", \"C\", \"D\"]  # Vertex의 종류\n",
    "E = [[\"A\", \"B\", 5], [\"B\", \"D\", -2], [\"A\", \"C\", 3]]  # Edge의 종류 [u,v,w]\n",
    "start = \"A\"  # 시작 Vertex\n",
    "\n",
    "BellmanFord(V, E, start)"
   ]
  }
 ],
 "metadata": {
  "kernelspec": {
   "display_name": "Python 3",
   "language": "python",
   "name": "python3"
  },
  "language_info": {
   "codemirror_mode": {
    "name": "ipython",
    "version": 3
   },
   "file_extension": ".py",
   "mimetype": "text/x-python",
   "name": "python",
   "nbconvert_exporter": "python",
   "pygments_lexer": "ipython3",
   "version": "3.12.3"
  }
 },
 "nbformat": 4,
 "nbformat_minor": 2
}
