{
 "cells": [
  {
   "cell_type": "markdown",
   "metadata": {},
   "source": [
    "# Bellman-ford algorithm"
   ]
  },
  {
   "cell_type": "code",
   "execution_count": 3,
   "metadata": {},
   "outputs": [
    {
     "name": "stdout",
     "output_type": "stream",
     "text": [
      "Vertex: Distance from Source\n",
      "0:\t\t0\n",
      "1:\t\t-1\n",
      "2:\t\t2\n",
      "3:\t\t-2\n",
      "4:\t\t1\n"
     ]
    }
   ],
   "source": [
    "# Python3 program for Bellman-Ford's single source\n",
    "# shortest path algorithm.\n",
    "\n",
    "# Class to represent a graph\n",
    "\n",
    "\n",
    "class Graph:\n",
    "\n",
    "    def __init__(self, vertices):\n",
    "        self.V = vertices  # No. of vertices\n",
    "        self.graph = []\n",
    "\n",
    "    # function to add an edge to graph\n",
    "    def addEdge(self, u, v, w):\n",
    "        self.graph.append([u, v, w])\n",
    "\n",
    "    # utility function used to print the solution\n",
    "    def printArr(self, dist):\n",
    "        print(\"Vertex: Distance from Source\")\n",
    "        for i in range(self.V):\n",
    "            print(\"{0}:\\t\\t{1}\".format(i, dist[i]))\n",
    "\n",
    "    # The main function that finds shortest distances from src to\n",
    "    # all other vertices using Bellman-Ford algorithm. The function\n",
    "    # also detects negative weight cycle\n",
    "    def BellmanFord(self, src):\n",
    "\n",
    "        # Step 1: Initialize distances from src to all other vertices\n",
    "        # as INFINITE\n",
    "        dist = [float(\"Inf\")] * self.V\n",
    "        dist[src] = 0\n",
    "\n",
    "        # Step 2: Relax all edges |V| - 1 times. A simple shortest\n",
    "        # path from src to any other vertex can have at-most |V| - 1\n",
    "        # edges\n",
    "        for _ in range(self.V - 1):\n",
    "            # Update dist value and parent index of the adjacent vertices of\n",
    "            # the picked vertex. Consider only those vertices which are still in\n",
    "            # queue\n",
    "            for u, v, w in self.graph:\n",
    "                if dist[u] != float(\"Inf\") and dist[u] + w < dist[v]:\n",
    "                    dist[v] = dist[u] + w\n",
    "\n",
    "        # Step 3: check for negative-weight cycles. The above step\n",
    "        # guarantees shortest distances if graph doesn't contain\n",
    "        # negative weight cycle. If we get a shorter path, then there\n",
    "        # is a cycle.\n",
    "\n",
    "        for u, v, w in self.graph:\n",
    "            if dist[u] != float(\"Inf\") and dist[u] + w < dist[v]:\n",
    "                print(\"Graph contains negative weight cycle\")\n",
    "                return\n",
    "\n",
    "        # print all distance\n",
    "        self.printArr(dist)\n",
    "\n",
    "\n",
    "# Driver's code\n",
    "if __name__ == \"__main__\":\n",
    "    g = Graph(5)\n",
    "    g.addEdge(0, 1, -1)\n",
    "    g.addEdge(0, 2, 4)\n",
    "    g.addEdge(1, 2, 3)\n",
    "    g.addEdge(1, 3, 2)\n",
    "    g.addEdge(1, 4, 2)\n",
    "    g.addEdge(3, 2, 5)\n",
    "    g.addEdge(3, 1, 1)\n",
    "    g.addEdge(4, 3, -3)\n",
    "\n",
    "    # function call\n",
    "    g.BellmanFord(0)\n",
    "\n",
    "# Initially, Contributed by Neelam Yadav\n",
    "# Later On, Edited by Himanshu Garg"
   ]
  },
  {
   "cell_type": "code",
   "execution_count": 6,
   "metadata": {},
   "outputs": [],
   "source": [
    "def BellmanFord(vertex_list, edge_list, src):\n",
    "    # distance 초기화\n",
    "    distance = {}\n",
    "\n",
    "    for vertex in vertex_list:\n",
    "        if vertex == src:\n",
    "            distance[vertex] = 0\n",
    "        else:\n",
    "            distance[vertex] = float(\"Inf\")\n",
    "\n",
    "    # 각 노드까지의 최단거리를 찾아서 distance를 갱신한다.\n",
    "    for i in range(len(vertex_list) - 1):\n",
    "        for edge in len(edge_list):\n",
    "            if distance[edge[u]] + edge[weight] < distance[edge[v]]:\n",
    "                distance[edge[v]] = distance[edge[u]] + edge[weight]\n",
    "\n",
    "    # negative-weight cycle이 있는지 찾기\n",
    "    for edge in len(edge_list):\n",
    "        if distance[edge[u]] + edge[weight] < distance[edge[v]]:\n",
    "            distance[edge[v]] = distance[edge[u]] + edge[weight]\n",
    "\n",
    "    # distance 반환\n",
    "    return distance"
   ]
  },
  {
   "cell_type": "code",
   "execution_count": null,
   "metadata": {},
   "outputs": [],
   "source": []
  }
 ],
 "metadata": {
  "kernelspec": {
   "display_name": "Python 3",
   "language": "python",
   "name": "python3"
  },
  "language_info": {
   "codemirror_mode": {
    "name": "ipython",
    "version": 3
   },
   "file_extension": ".py",
   "mimetype": "text/x-python",
   "name": "python",
   "nbconvert_exporter": "python",
   "pygments_lexer": "ipython3",
   "version": "3.12.3"
  }
 },
 "nbformat": 4,
 "nbformat_minor": 2
}
