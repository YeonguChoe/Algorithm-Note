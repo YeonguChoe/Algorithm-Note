{
 "cells": [
  {
   "cell_type": "markdown",
   "metadata": {},
   "source": [
    "# Topological Sort"
   ]
  },
  {
   "cell_type": "markdown",
   "metadata": {},
   "source": [
    "### Kahn 알고리즘"
   ]
  },
  {
   "cell_type": "code",
   "execution_count": 50,
   "metadata": {},
   "outputs": [
    {
     "data": {
      "text/plain": [
       "'그래프에 사이클이 존재합니다'"
      ]
     },
     "execution_count": 50,
     "metadata": {},
     "output_type": "execute_result"
    }
   ],
   "source": [
    "# incoming_edge = {\"A\": 0, \"B\": 3, \"C\": 2, \"D\": 0}\n",
    "# adjacency_list = {\"A\": [\"B\", \"C\"], \"B\": [], \"C\": [\"B\"], \"D\": [\"B\", \"C\"]}\n",
    "incoming_edge = {\"A\": 0, \"B\": 2, \"C\": 1, \"D\": 2}\n",
    "adjacency_list = {\"A\": [\"B\", \"D\"], \"B\": [\"C\"], \"C\": [\"D\"], \"D\": [\"B\"]}\n",
    "\n",
    "\n",
    "def Kahn(adjacency_list, incoming_edge):\n",
    "    L = []\n",
    "    while len(L) < len(incoming_edge):\n",
    "        selected_node = None\n",
    "        for key, value in incoming_edge.items():\n",
    "            if value == 0 and key not in L:\n",
    "                selected_node = key\n",
    "                break\n",
    "        if selected_node == None:\n",
    "            return \"그래프에 사이클이 존재합니다\"\n",
    "        L.append(selected_node)\n",
    "        for node in adjacency_list[selected_node]:\n",
    "            incoming_edge[node] -= 1\n",
    "        adjacency_list[selected_node] = []\n",
    "    for key, value in incoming_edge.items():\n",
    "        if value != 0:\n",
    "            return \"그래프에 사이클이 존재합니다\"\n",
    "    return L\n",
    "\n",
    "\n",
    "Kahn(adjacency_list, incoming_edge)"
   ]
  },
  {
   "cell_type": "code",
   "execution_count": null,
   "metadata": {},
   "outputs": [],
   "source": []
  }
 ],
 "metadata": {
  "kernelspec": {
   "display_name": "Python 3",
   "language": "python",
   "name": "python3"
  },
  "language_info": {
   "codemirror_mode": {
    "name": "ipython",
    "version": 3
   },
   "file_extension": ".py",
   "mimetype": "text/x-python",
   "name": "python",
   "nbconvert_exporter": "python",
   "pygments_lexer": "ipython3",
   "version": "3.12.3"
  }
 },
 "nbformat": 4,
 "nbformat_minor": 2
}
