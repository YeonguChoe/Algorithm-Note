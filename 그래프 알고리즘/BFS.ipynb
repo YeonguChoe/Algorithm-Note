{
 "cells": [
  {
   "cell_type": "markdown",
   "metadata": {},
   "source": [
    "# Breadth first Search"
   ]
  },
  {
   "cell_type": "markdown",
   "metadata": {},
   "source": [
    "## Time complexity\n",
    "$O(|Vertex|+|Edge|)$ where Vertex represent while loop iteration of removing from the queue and edge represent appending children of each node.\n",
    "## Space complexity\n",
    "$O(|Vertex|)$"
   ]
  },
  {
   "cell_type": "code",
   "execution_count": 3,
   "metadata": {},
   "outputs": [],
   "source": [
    "class Node:\n",
    "    def __init__(self) -> None:\n",
    "        self.children = []\n",
    "\n",
    "    def add_child(self, name):\n",
    "        self.children.append(Node(name))\n",
    "        return self\n",
    "\n",
    "    def BFS(self):\n",
    "        queue = [self]\n",
    "        bfs_array = []\n",
    "        while len(queue) > 0:\n",
    "            current = queue.pop(0)\n",
    "            bfs_array.append(current)\n",
    "            for children_node in current.children:\n",
    "                queue.append(children_node)\n",
    "        return bfs_array"
   ]
  },
  {
   "cell_type": "code",
   "execution_count": null,
   "metadata": {},
   "outputs": [],
   "source": []
  }
 ],
 "metadata": {
  "kernelspec": {
   "display_name": "Python 3",
   "language": "python",
   "name": "python3"
  },
  "language_info": {
   "codemirror_mode": {
    "name": "ipython",
    "version": 3
   },
   "file_extension": ".py",
   "mimetype": "text/x-python",
   "name": "python",
   "nbconvert_exporter": "python",
   "pygments_lexer": "ipython3",
   "version": "3.12.3"
  }
 },
 "nbformat": 4,
 "nbformat_minor": 2
}
