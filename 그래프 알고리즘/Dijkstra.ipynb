{
 "cells": [
  {
   "cell_type": "markdown",
   "metadata": {},
   "source": [
    "# Dijkstra's algorithm"
   ]
  },
  {
   "cell_type": "markdown",
   "metadata": {},
   "source": [
    "### minHeap을 사용해서 구현하는 방법"
   ]
  },
  {
   "cell_type": "code",
   "execution_count": 12,
   "metadata": {
    "jupyter": {
     "is_executing": true
    }
   },
   "outputs": [],
   "source": [
    "import heapq\n",
    "\n",
    "\n",
    "def Dijkstra_with_minHeap(edges, src):\n",
    "\n",
    "    # 노드들의 종류에는 어떤게 있는지 구한다.\n",
    "    # 예: A, B, C, D, E, F\n",
    "    type_of_node = set([])\n",
    "    for edge in edges:\n",
    "        type_of_node.add(edge[0])\n",
    "        type_of_node.add(edge[1])\n",
    "\n",
    "    ################ minHeap, adjacency_list, distance 만들기 ###################\n",
    "    minHeap = []\n",
    "    adjacency_list = {}\n",
    "    for edge in type_of_node:\n",
    "        adjacency_list[edge] = []\n",
    "        if edge != src:\n",
    "            minHeap.append([float(\"inf\"), edge, []])  # 세번째 값은 경로이다.\n",
    "        else:\n",
    "            minHeap.append([0, edge, [src]])\n",
    "        heapq.heapify(\n",
    "            minHeap\n",
    "        )  # 여기서 heapify를 꼭 한번 해줘야 한다. 그렇게 해야 minHeap을 Heap 자료구조로 만들수 있다.\n",
    "\n",
    "    for edge in edges:\n",
    "        adjacency_list[edge[0]].append([edge[1], edge[2]])\n",
    "        adjacency_list[edge[1]].append([edge[0], edge[2]])\n",
    "\n",
    "    distance = {}\n",
    "    #############################################################################\n",
    "\n",
    "    while len(minHeap) > 0:\n",
    "        explored = heapq.heappop(minHeap)\n",
    "        alphabet = explored[1]\n",
    "\n",
    "        distance[alphabet] = explored[0], explored[2] # 거리, 경로\n",
    "\n",
    "        for connected_node in adjacency_list[alphabet]:\n",
    "            for node in minHeap:\n",
    "                if node[1] == connected_node[0]:\n",
    "                    if (\n",
    "                        node[0] > explored[0] + connected_node[1]\n",
    "                    ):  # 만약에 기존의 minHeap의 가중치 보다 Hop이 더 많은 새로운 경로의 가중치가 작은 경우\n",
    "                        node[0] = (\n",
    "                            explored[0] + connected_node[1]\n",
    "                        )  # 더 작은 가중치로 갱신한다.\n",
    "                        node[2] = explored[2] + [\n",
    "                            connected_node[0]\n",
    "                        ]  # 인접한 노드들에 Hop을 추가한다.\n",
    "                # print(f\"{alphabet:} {adjacency_list[alphabet]}\")\n",
    "\n",
    "    return distance"
   ]
  },
  {
   "cell_type": "markdown",
   "metadata": {},
   "source": [
    "### minHeap을 사용하지 않는 Dijkstra 알고리즘"
   ]
  },
  {
   "cell_type": "code",
   "execution_count": 13,
   "metadata": {},
   "outputs": [],
   "source": [
    "import heapq\n",
    "\n",
    "\n",
    "def Dijkstra_without_minHeap(edges, src):\n",
    "\n",
    "    # 노드들의 종류에는 어떤게 있는지 구한다.\n",
    "    # 예: A, B, C, D, E, F\n",
    "    type_of_node = set([])\n",
    "    for edge in edges:\n",
    "        type_of_node.add(edge[0])\n",
    "        type_of_node.add(edge[1])\n",
    "\n",
    "    ################ list_of_node, adjacency_list, distance 만들기 ###################\n",
    "    list_of_node = []\n",
    "    adjacency_list = {}\n",
    "    for i in type_of_node:\n",
    "        adjacency_list[i] = []\n",
    "        if i != src:\n",
    "            list_of_node.append([float(\"inf\"), i, []])  # 세번째 값은 경로이다.\n",
    "        else:\n",
    "            list_of_node.append([0, i, [src]])\n",
    "\n",
    "    for i in edges:\n",
    "        adjacency_list[i[0]].append([i[1], i[2]])\n",
    "        adjacency_list[i[1]].append([i[0], i[2]])\n",
    "\n",
    "    distance = {}\n",
    "    #############################################################################\n",
    "\n",
    "    while len(list_of_node) > 0:\n",
    "        explored = None\n",
    "        current_minimum = float(\"inf\")\n",
    "        # list_of_node는 minHeap의 최소값을 반환하는 기능을 for 문으로 구현한다.\n",
    "        for i in list_of_node:\n",
    "            if current_minimum > i[0]:\n",
    "                current_minimum = i[0]\n",
    "                explored = i\n",
    "        list_of_node.remove(explored)\n",
    "        alphabet = explored[1]\n",
    "\n",
    "        distance[alphabet] = explored[0], explored[2]\n",
    "\n",
    "        for connected_node in adjacency_list[alphabet]:\n",
    "            for node in list_of_node:\n",
    "                if node[1] == connected_node[0]:\n",
    "                    if (\n",
    "                        node[0] > explored[0] + connected_node[1]\n",
    "                    ):  # 만약에 기존의 minHeap의 가중치 보다 Hop이 더 많은 새로운 경로의 가중치가 작은 경우\n",
    "                        node[0] = (\n",
    "                            explored[0] + connected_node[1]\n",
    "                        )  # 더 작은 가중치로 갱신한다.\n",
    "                        node[2] = explored[2] + [\n",
    "                            connected_node[0]\n",
    "                        ]  # 인접한 노드들에 Hop을 추가한다.\n",
    "\n",
    "    return distance"
   ]
  },
  {
   "cell_type": "code",
   "execution_count": 15,
   "metadata": {
    "jupyter": {
     "is_executing": true
    }
   },
   "outputs": [
    {
     "data": {
      "text/plain": [
       "(7, ['A', 'B', 'D'])"
      ]
     },
     "execution_count": 15,
     "metadata": {},
     "output_type": "execute_result"
    }
   ],
   "source": [
    "edges = [[\"A\", \"B\", 3], [\"B\", \"D\", 4], [\"A\", \"C\", 1]]\n",
    "src = \"A\"\n",
    "\n",
    "Dijkstra_with_minHeap(edges, src)"
   ]
  },
  {
   "cell_type": "code",
   "execution_count": null,
   "metadata": {},
   "outputs": [],
   "source": []
  }
 ],
 "metadata": {
  "kernelspec": {
   "display_name": "Python 3",
   "language": "python",
   "name": "python3"
  },
  "language_info": {
   "codemirror_mode": {
    "name": "ipython",
    "version": 3
   },
   "file_extension": ".py",
   "mimetype": "text/x-python",
   "name": "python",
   "nbconvert_exporter": "python",
   "pygments_lexer": "ipython3",
   "version": "3.12.3"
  }
 },
 "nbformat": 4,
 "nbformat_minor": 2
}
