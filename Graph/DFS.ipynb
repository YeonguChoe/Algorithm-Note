{
 "cells": [
  {
   "cell_type": "markdown",
   "metadata": {},
   "source": [
    "# DFS"
   ]
  },
  {
   "cell_type": "markdown",
   "metadata": {},
   "source": [
    "### 일반적인 Recursive DFS 구조"
   ]
  },
  {
   "cell_type": "code",
   "execution_count": 24,
   "metadata": {},
   "outputs": [],
   "source": [
    "def dfs_recursive(current_node, visited):\n",
    "    # 1) 노드를 방문했다고 마킹한다.\n",
    "    visited[current_node] = True\n",
    "    # 2) 현재 방문중인 노드에 필요한 연산을 한다.\n",
    "    ##################################################\n",
    "    #                                                #\n",
    "    #                  필요한 연산                      #\n",
    "    #                                                #\n",
    "    ##################################################\n",
    "    # 3) 하위 노드를 방문한다.\n",
    "    for edge in current_node.edges:\n",
    "        if not visited[edge]:  # 방문하지 않은 노드인 경우 dfs를 실행한다.\n",
    "            dfs_recursive(edge, visited)\n",
    "    # 4) 필요하다면 추가적으로 반환하는 연산을 한다.\n",
    "    ##################################################\n",
    "    #                                                #\n",
    "    #                  필요한 연산                      #\n",
    "    #                                                #\n",
    "    ##################################################"
   ]
  },
  {
   "cell_type": "markdown",
   "metadata": {},
   "source": [
    "### Recursion을 사용하지 않는 Iterative DFS 구조"
   ]
  },
  {
   "cell_type": "code",
   "execution_count": 23,
   "metadata": {},
   "outputs": [],
   "source": [
    "def dfs_iterative(start_node, visited):\n",
    "    stack = []\n",
    "    # 1) Stack에 시작 노드를 push 한다.\n",
    "    stack.append(start_node)\n",
    "\n",
    "    while stack:\n",
    "        # 2) pop을 이용해서 새로운 노드를 stack의 뒤에서 꺼낸다.\n",
    "        current_node = stack.pop()\n",
    "        # 3) 노드를 방문했다고 마킹한다.\n",
    "        if visited[current_node] == False:\n",
    "            visited[current_node] = True\n",
    "            # 4) 현재 방문중인 노드에 필요한 연산을 한다.\n",
    "            ##################################################\n",
    "            #                                                #\n",
    "            #                  필요한 연산                      #\n",
    "            #                                                #\n",
    "            ##################################################\n",
    "\n",
    "            # 5) 중요!) stack의 특성 때문에 하위 노드 리스트를 반대로 바꿔줘야 왼쪽 하위 노드 부터 탐색한다.\n",
    "            # 이렇게 하는 이유는 왼쪽 하위 노드 부터 탐색하는 원래 DFS 순서를 유지하기 위해서다.\n",
    "            current_node.edges.reverse()\n",
    "            for edge in current_node.edges:\n",
    "                if not visited[edge]:\n",
    "                    # 6) stack의 뒤에 새로운 노드를 push 한다.\n",
    "                    stack.append(edge)"
   ]
  },
  {
   "cell_type": "markdown",
   "metadata": {},
   "source": [
    "### DFS in 2D Array"
   ]
  },
  {
   "cell_type": "code",
   "execution_count": 22,
   "metadata": {},
   "outputs": [
    {
     "data": {
      "text/plain": [
       "[4, 3, 2, 1]"
      ]
     },
     "execution_count": 22,
     "metadata": {},
     "output_type": "execute_result"
    }
   ],
   "source": [
    "x = [1, 2, 3]\n",
    "x.append(4)\n",
    "x.reverse()\n",
    "x"
   ]
  },
  {
   "cell_type": "code",
   "execution_count": null,
   "metadata": {},
   "outputs": [],
   "source": []
  }
 ],
 "metadata": {
  "kernelspec": {
   "display_name": "Python 3",
   "language": "python",
   "name": "python3"
  },
  "language_info": {
   "codemirror_mode": {
    "name": "ipython",
    "version": 3
   },
   "file_extension": ".py",
   "mimetype": "text/x-python",
   "name": "python",
   "nbconvert_exporter": "python",
   "pygments_lexer": "ipython3",
   "version": "3.9.6"
  }
 },
 "nbformat": 4,
 "nbformat_minor": 2
}
