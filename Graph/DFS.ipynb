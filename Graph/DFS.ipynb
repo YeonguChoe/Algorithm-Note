{
 "cells": [
  {
   "cell_type": "markdown",
   "metadata": {},
   "source": [
    "# DFS"
   ]
  },
  {
   "cell_type": "markdown",
   "metadata": {},
   "source": [
    "## Time complexity\n",
    "$O(|V|+|E|)$\n",
    "\n",
    "## Space complexity\n",
    "$O(|V|)$"
   ]
  },
  {
   "cell_type": "code",
   "execution_count": 3,
   "metadata": {},
   "outputs": [],
   "source": [
    "class Node:\n",
    "    def __init__(self, name):\n",
    "        self.children = []\n",
    "        self.name = name\n",
    "\n",
    "    def add_child(self, name):\n",
    "        self.children.append(Node(name))\n",
    "\n",
    "    def DFS(self, dfs_array):\n",
    "        dfs_array.append(self.name)\n",
    "        if len(self.children) == 0:\n",
    "            return\n",
    "        for child_node in self.children:\n",
    "            child_node.DFS(dfs_array)\n",
    "        return dfs_array"
   ]
  },
  {
   "cell_type": "code",
   "execution_count": null,
   "metadata": {},
   "outputs": [],
   "source": []
  }
 ],
 "metadata": {
  "kernelspec": {
   "display_name": "Python 3",
   "language": "python",
   "name": "python3"
  },
  "language_info": {
   "codemirror_mode": {
    "name": "ipython",
    "version": 3
   },
   "file_extension": ".py",
   "mimetype": "text/x-python",
   "name": "python",
   "nbconvert_exporter": "python",
   "pygments_lexer": "ipython3",
   "version": "3.12.3"
  }
 },
 "nbformat": 4,
 "nbformat_minor": 2
}
