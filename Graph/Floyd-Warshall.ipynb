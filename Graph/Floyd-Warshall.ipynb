{
 "cells": [
  {
   "cell_type": "markdown",
   "metadata": {},
   "source": [
    "# Floyd-Warshall algorithm"
   ]
  },
  {
   "cell_type": "markdown",
   "metadata": {},
   "source": [
    "## Adjacency Matrix와 이전 노드에 대한 정보를 갖고 있는 Previous Node Matrix를 만드는 함수"
   ]
  },
  {
   "cell_type": "code",
   "execution_count": 75,
   "metadata": {},
   "outputs": [],
   "source": [
    "def Floyd_Warshall(vertex_list, edge_list):\n",
    "\n",
    "    # 리스트로 만든 2D matrix를 사용해야 하므로, 노드 이름을 숫자로 바꿔 주는 변환 테이블을 만들었다.\n",
    "    conversion_table = {\"A\": 0, \"B\": 1, \"C\": 2, \"D\": 3, \"E\": 4, \"F\": 5}\n",
    "\n",
    "    # 경로의 가중치를 보관하는 adjacency matrix인 distance를 초기화 한다.\n",
    "    distance = [\n",
    "        [float(\"inf\") for _ in range(len(vertex_list))] for _ in range(len(vertex_list))\n",
    "    ]\n",
    "    # Edge를 타고 이동하기 이전에 노드의 위치를 보관하는 previous_node를 초기화 한다.\n",
    "    previous_node = [\n",
    "        [None for _ in range(len(vertex_list))] for _ in range(len(vertex_list))\n",
    "    ]\n",
    "\n",
    "    for i in range(len(edge_list)):\n",
    "        start = conversion_table[edge_list[i][0]]\n",
    "        end = conversion_table[edge_list[i][1]]\n",
    "        weight = edge_list[i][2]\n",
    "        # vertex 리스트를 보고 각 edge의 가중치를 보관한다.\n",
    "        distance[start][end] = weight\n",
    "        # 각 edge의 시작점을 previous_node에 보관한다.\n",
    "        previous_node[start][end] = edge_list[i][0]\n",
    "\n",
    "    for vertex in vertex_list:\n",
    "        # 각 vertex에 대해서 가중치와 이전 노드를 설정해 준다\n",
    "        index = conversion_table[vertex]\n",
    "        distance[index][index] = 0\n",
    "        previous_node[index][index] = vertex\n",
    "\n",
    "    for k in range(len(vertex_list)):\n",
    "        for i in range(len(vertex_list)):\n",
    "            for j in range(len(vertex_list)):\n",
    "                if distance[i][j] > distance[i][k] + distance[k][j]:\n",
    "                    distance[i][j] = distance[i][k] + distance[k][j]\n",
    "                    previous_node[i][j] = previous_node[k][j]\n",
    "    return [distance, previous_node]"
   ]
  },
  {
   "cell_type": "markdown",
   "metadata": {},
   "source": [
    "## 경로를 만드는 함수"
   ]
  },
  {
   "cell_type": "code",
   "execution_count": 79,
   "metadata": {},
   "outputs": [],
   "source": [
    "def path(previous_node, start, end):\n",
    "    # 리스트로 만든 2D matrix를 사용해야 하므로, 노드 이름을 숫자로 바꿔 주는 변환 테이블을 만들었다.\n",
    "    conversion_table = {\"A\": 0, \"B\": 1, \"C\": 2, \"D\": 3, \"E\": 4, \"F\": 5}\n",
    "    if previous_node[conversion_table[start]][conversion_table[end]] == None:\n",
    "        return []\n",
    "\n",
    "    path = []\n",
    "    path.insert(0, end)\n",
    "    while start != end:\n",
    "        end = previous_node[conversion_table[start]][conversion_table[end]]\n",
    "        path.insert(0, end)\n",
    "    return path"
   ]
  },
  {
   "cell_type": "code",
   "execution_count": 80,
   "metadata": {},
   "outputs": [
    {
     "name": "stdout",
     "output_type": "stream",
     "text": [
      "['A', 'B', 'D']\n"
     ]
    }
   ],
   "source": [
    "V = [\"A\", \"B\", \"C\", \"D\"]  # Vertex의 종류\n",
    "E = [[\"A\", \"B\", 2], [\"B\", \"D\", -5], [\"A\", \"C\", 3]]  # Edge의 종류 [u,v,w]\n",
    "start = \"A\"  # 시작 Vertex\n",
    "\n",
    "distance_matrix = Floyd_Warshall(V, E)[0]\n",
    "route_matrix = Floyd_Warshall(V, E)[1]\n",
    "print(path(route_matrix, \"A\", \"D\"))\n",
    "# print(route_matrix)"
   ]
  }
 ],
 "metadata": {
  "kernelspec": {
   "display_name": "Python 3",
   "language": "python",
   "name": "python3"
  },
  "language_info": {
   "codemirror_mode": {
    "name": "ipython",
    "version": 3
   },
   "file_extension": ".py",
   "mimetype": "text/x-python",
   "name": "python",
   "nbconvert_exporter": "python",
   "pygments_lexer": "ipython3",
   "version": "3.12.3"
  }
 },
 "nbformat": 4,
 "nbformat_minor": 2
}
