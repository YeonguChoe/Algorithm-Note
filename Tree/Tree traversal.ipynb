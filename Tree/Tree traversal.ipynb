{
 "cells": [
  {
   "cell_type": "markdown",
   "metadata": {},
   "source": [
    "# Tree traversal"
   ]
  },
  {
   "cell_type": "markdown",
   "metadata": {},
   "source": [
    "### Pre-order traversal"
   ]
  },
  {
   "cell_type": "code",
   "execution_count": 13,
   "metadata": {},
   "outputs": [],
   "source": [
    "class TreeNode:\n",
    "    def __init__(self, val=0, left=None, right=None):\n",
    "        self.val = val\n",
    "        self.left = left\n",
    "        self.right = right\n",
    "\n",
    "\n",
    "def preorderTraversal(root):\n",
    "    L = []\n",
    "    return helper(root, L)\n",
    "\n",
    "\n",
    "def helper(current_node, list):\n",
    "    if current_node == None:\n",
    "        return\n",
    "    list.append(current_node.val)\n",
    "    helper(current_node.left, list)\n",
    "    helper(current_node.right, list)\n",
    "    return list"
   ]
  },
  {
   "cell_type": "code",
   "execution_count": 14,
   "metadata": {},
   "outputs": [
    {
     "data": {
      "text/plain": [
       "[0, 1, 3, 2]"
      ]
     },
     "execution_count": 14,
     "metadata": {},
     "output_type": "execute_result"
    }
   ],
   "source": [
    "node3 = TreeNode(3)\n",
    "node1 = TreeNode(1, None, node3)\n",
    "node2 = TreeNode(2)\n",
    "root_node = TreeNode(0, node1, node2)\n",
    "\n",
    "preorderTraversal(root_node)"
   ]
  },
  {
   "cell_type": "markdown",
   "metadata": {},
   "source": [
    "### In-order traversal"
   ]
  },
  {
   "cell_type": "code",
   "execution_count": 15,
   "metadata": {},
   "outputs": [],
   "source": [
    "class TreeNode:\n",
    "    def __init__(self, val=0, left=None, right=None):\n",
    "        self.val = val\n",
    "        self.left = left\n",
    "        self.right = right\n",
    "\n",
    "\n",
    "def inorderTraversal(root):\n",
    "    L = []\n",
    "    return helper(root, L)\n",
    "\n",
    "\n",
    "def helper(current_node, list):\n",
    "    if current_node == None:\n",
    "        return\n",
    "    helper(current_node.left, list)\n",
    "    list.append(current_node.val)\n",
    "    helper(current_node.right, list)\n",
    "    return list"
   ]
  },
  {
   "cell_type": "code",
   "execution_count": 16,
   "metadata": {},
   "outputs": [
    {
     "data": {
      "text/plain": [
       "[1, 3, 0, 2]"
      ]
     },
     "execution_count": 16,
     "metadata": {},
     "output_type": "execute_result"
    }
   ],
   "source": [
    "node3 = TreeNode(3)\n",
    "node1 = TreeNode(1, None, node3)\n",
    "node2 = TreeNode(2)\n",
    "root_node = TreeNode(0, node1, node2)\n",
    "\n",
    "inorderTraversal(root_node)"
   ]
  },
  {
   "cell_type": "markdown",
   "metadata": {},
   "source": [
    "### Post-order traversal"
   ]
  },
  {
   "cell_type": "code",
   "execution_count": 17,
   "metadata": {},
   "outputs": [],
   "source": [
    "class TreeNode:\n",
    "    def __init__(self, val=0, left=None, right=None):\n",
    "        self.val = val\n",
    "        self.left = left\n",
    "        self.right = right\n",
    "\n",
    "\n",
    "def postorderTraversal(root):\n",
    "    L = []\n",
    "    return helper(root, L)\n",
    "\n",
    "\n",
    "def helper(current_node, list):\n",
    "    if current_node == None:\n",
    "        return\n",
    "    helper(current_node.left, list)\n",
    "    helper(current_node.right, list)\n",
    "    list.append(current_node.val)\n",
    "    return list"
   ]
  },
  {
   "cell_type": "code",
   "execution_count": 18,
   "metadata": {},
   "outputs": [
    {
     "data": {
      "text/plain": [
       "[3, 1, 2, 0]"
      ]
     },
     "execution_count": 18,
     "metadata": {},
     "output_type": "execute_result"
    }
   ],
   "source": [
    "node3 = TreeNode(3)\n",
    "node1 = TreeNode(1, None, node3)\n",
    "node2 = TreeNode(2)\n",
    "root_node = TreeNode(0, node1, node2)\n",
    "\n",
    "postorderTraversal(root_node)"
   ]
  }
 ],
 "metadata": {
  "kernelspec": {
   "display_name": "Python 3",
   "language": "python",
   "name": "python3"
  },
  "language_info": {
   "codemirror_mode": {
    "name": "ipython",
    "version": 3
   },
   "file_extension": ".py",
   "mimetype": "text/x-python",
   "name": "python",
   "nbconvert_exporter": "python",
   "pygments_lexer": "ipython3",
   "version": "3.12.3"
  }
 },
 "nbformat": 4,
 "nbformat_minor": 2
}
